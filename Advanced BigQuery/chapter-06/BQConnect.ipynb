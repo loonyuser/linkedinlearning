{
 "cells": [
  {
   "cell_type": "code",
   "execution_count": 1,
   "id": "2b156519",
   "metadata": {},
   "outputs": [
    {
     "name": "stdout",
     "output_type": "stream",
     "text": [
      "Collecting google-cloud-bigquery\n",
      "  Downloading google_cloud_bigquery-2.34.2-py2.py3-none-any.whl (206 kB)\n",
      "\u001b[K     |████████████████████████████████| 206 kB 1.6 MB/s eta 0:00:01\n",
      "\u001b[?25hCollecting google-resumable-media<3.0dev,>=0.6.0\n",
      "  Downloading google_resumable_media-2.3.2-py2.py3-none-any.whl (76 kB)\n",
      "\u001b[K     |████████████████████████████████| 76 kB 3.6 MB/s eta 0:00:01\n",
      "\u001b[?25hRequirement already satisfied: protobuf>=3.12.0 in /Users/kishan/opt/anaconda3/lib/python3.9/site-packages (from google-cloud-bigquery) (3.19.1)\n",
      "Collecting proto-plus>=1.15.0\n",
      "  Downloading proto_plus-1.20.3-py3-none-any.whl (46 kB)\n",
      "\u001b[K     |████████████████████████████████| 46 kB 3.8 MB/s eta 0:00:01\n",
      "\u001b[?25hCollecting google-api-core[grpc]!=2.0.*,!=2.1.*,!=2.2.*,!=2.3.0,<3.0.0dev,>=1.31.5\n",
      "  Downloading google_api_core-2.7.1-py3-none-any.whl (114 kB)\n",
      "\u001b[K     |████████████████████████████████| 114 kB 3.0 MB/s eta 0:00:01\n",
      "\u001b[?25hCollecting google-cloud-core<3.0.0dev,>=1.4.1\n",
      "  Downloading google_cloud_core-2.2.3-py2.py3-none-any.whl (29 kB)\n",
      "Requirement already satisfied: grpcio<2.0dev,>=1.38.1 in /Users/kishan/opt/anaconda3/lib/python3.9/site-packages (from google-cloud-bigquery) (1.42.0)\n",
      "Requirement already satisfied: packaging>=14.3 in /Users/kishan/opt/anaconda3/lib/python3.9/site-packages (from google-cloud-bigquery) (21.0)\n",
      "Requirement already satisfied: requests<3.0.0dev,>=2.18.0 in /Users/kishan/opt/anaconda3/lib/python3.9/site-packages (from google-cloud-bigquery) (2.27.1)\n",
      "Requirement already satisfied: python-dateutil<3.0dev,>=2.7.2 in /Users/kishan/opt/anaconda3/lib/python3.9/site-packages (from google-cloud-bigquery) (2.8.2)\n",
      "Collecting googleapis-common-protos<2.0dev,>=1.52.0\n",
      "  Downloading googleapis_common_protos-1.56.0-py2.py3-none-any.whl (241 kB)\n",
      "\u001b[K     |████████████████████████████████| 241 kB 7.3 MB/s eta 0:00:01\n",
      "\u001b[?25hRequirement already satisfied: google-auth<3.0dev,>=1.25.0 in /Users/kishan/opt/anaconda3/lib/python3.9/site-packages (from google-api-core[grpc]!=2.0.*,!=2.1.*,!=2.2.*,!=2.3.0,<3.0.0dev,>=1.31.5->google-cloud-bigquery) (2.3.3)\n",
      "Collecting grpcio-status<2.0dev,>=1.33.2\n",
      "  Downloading grpcio_status-1.45.0-py3-none-any.whl (10.0 kB)\n",
      "Requirement already satisfied: six>=1.9.0 in /Users/kishan/opt/anaconda3/lib/python3.9/site-packages (from google-auth<3.0dev,>=1.25.0->google-api-core[grpc]!=2.0.*,!=2.1.*,!=2.2.*,!=2.3.0,<3.0.0dev,>=1.31.5->google-cloud-bigquery) (1.16.0)\n",
      "Requirement already satisfied: setuptools>=40.3.0 in /Users/kishan/opt/anaconda3/lib/python3.9/site-packages (from google-auth<3.0dev,>=1.25.0->google-api-core[grpc]!=2.0.*,!=2.1.*,!=2.2.*,!=2.3.0,<3.0.0dev,>=1.31.5->google-cloud-bigquery) (58.0.4)\n",
      "Requirement already satisfied: rsa<5,>=3.1.4 in /Users/kishan/opt/anaconda3/lib/python3.9/site-packages (from google-auth<3.0dev,>=1.25.0->google-api-core[grpc]!=2.0.*,!=2.1.*,!=2.2.*,!=2.3.0,<3.0.0dev,>=1.31.5->google-cloud-bigquery) (4.8)\n",
      "Requirement already satisfied: cachetools<5.0,>=2.0.0 in /Users/kishan/opt/anaconda3/lib/python3.9/site-packages (from google-auth<3.0dev,>=1.25.0->google-api-core[grpc]!=2.0.*,!=2.1.*,!=2.2.*,!=2.3.0,<3.0.0dev,>=1.31.5->google-cloud-bigquery) (4.2.4)\n",
      "Requirement already satisfied: pyasn1-modules>=0.2.1 in /Users/kishan/opt/anaconda3/lib/python3.9/site-packages (from google-auth<3.0dev,>=1.25.0->google-api-core[grpc]!=2.0.*,!=2.1.*,!=2.2.*,!=2.3.0,<3.0.0dev,>=1.31.5->google-cloud-bigquery) (0.2.8)\n",
      "Collecting google-crc32c<2.0dev,>=1.0\n",
      "  Downloading google_crc32c-1.3.0-cp39-cp39-macosx_10_9_x86_64.whl (30 kB)\n",
      "Collecting grpcio<2.0dev,>=1.38.1\n",
      "  Downloading grpcio-1.45.0-cp39-cp39-macosx_10_10_x86_64.whl (4.3 MB)\n",
      "\u001b[K     |████████████████████████████████| 4.3 MB 4.6 MB/s eta 0:00:01     |█████████████▊                  | 1.9 MB 4.6 MB/s eta 0:00:01\n",
      "\u001b[?25hRequirement already satisfied: pyparsing>=2.0.2 in /Users/kishan/opt/anaconda3/lib/python3.9/site-packages (from packaging>=14.3->google-cloud-bigquery) (3.0.4)\n",
      "Requirement already satisfied: pyasn1<0.5.0,>=0.4.6 in /Users/kishan/opt/anaconda3/lib/python3.9/site-packages (from pyasn1-modules>=0.2.1->google-auth<3.0dev,>=1.25.0->google-api-core[grpc]!=2.0.*,!=2.1.*,!=2.2.*,!=2.3.0,<3.0.0dev,>=1.31.5->google-cloud-bigquery) (0.4.8)\n",
      "Requirement already satisfied: certifi>=2017.4.17 in /Users/kishan/opt/anaconda3/lib/python3.9/site-packages (from requests<3.0.0dev,>=2.18.0->google-cloud-bigquery) (2021.10.8)\n",
      "Requirement already satisfied: idna<4,>=2.5 in /Users/kishan/opt/anaconda3/lib/python3.9/site-packages (from requests<3.0.0dev,>=2.18.0->google-cloud-bigquery) (3.2)\n",
      "Requirement already satisfied: urllib3<1.27,>=1.21.1 in /Users/kishan/opt/anaconda3/lib/python3.9/site-packages (from requests<3.0.0dev,>=2.18.0->google-cloud-bigquery) (1.26.7)\n",
      "Requirement already satisfied: charset-normalizer~=2.0.0 in /Users/kishan/opt/anaconda3/lib/python3.9/site-packages (from requests<3.0.0dev,>=2.18.0->google-cloud-bigquery) (2.0.4)\n",
      "\u001b[33mWARNING: The candidate selected for download or install is a yanked version: 'grpcio' candidate (version 1.45.0 at https://files.pythonhosted.org/packages/46/8e/8700fa890a4df73410306fe3a02b4d99ea34592cbd89abc10f04f5c66a68/grpcio-1.45.0-cp39-cp39-macosx_10_10_x86_64.whl#sha256=250d8f18332f3dbd4db00efa91d33d336e58362e9c80e6946d45ecf5e82d95ec (from https://pypi.org/simple/grpcio/) (requires-python:>=3.6))\n",
      "Reason for being yanked: Segfaults\u001b[0m\n",
      "Installing collected packages: grpcio, googleapis-common-protos, grpcio-status, google-crc32c, google-api-core, proto-plus, google-resumable-media, google-cloud-core, google-cloud-bigquery\n",
      "  Attempting uninstall: grpcio\n",
      "    Found existing installation: grpcio 1.42.0\n",
      "    Uninstalling grpcio-1.42.0:\n",
      "      Successfully uninstalled grpcio-1.42.0\n",
      "Successfully installed google-api-core-2.7.1 google-cloud-bigquery-2.34.2 google-cloud-core-2.2.3 google-crc32c-1.3.0 google-resumable-media-2.3.2 googleapis-common-protos-1.56.0 grpcio-1.45.0 grpcio-status-1.45.0 proto-plus-1.20.3\n"
     ]
    }
   ],
   "source": [
    "!pip install google-cloud-bigquery"
   ]
  },
  {
   "cell_type": "code",
   "execution_count": 2,
   "id": "e3c1de88",
   "metadata": {},
   "outputs": [],
   "source": [
    "from google.cloud import bigquery\n",
    "from google.oauth2 import service_account"
   ]
  },
  {
   "cell_type": "code",
   "execution_count": 4,
   "id": "9820bc09",
   "metadata": {},
   "outputs": [],
   "source": [
    "credentials = service_account\\\n",
    "                .Credentials\\\n",
    "                .from_service_account_file('/Users/loonycorn/Desktop/LinkedInLearning/test/bq_credentials.json')"
   ]
  },
  {
   "cell_type": "code",
   "execution_count": 5,
   "id": "5f43e5fb",
   "metadata": {},
   "outputs": [],
   "source": [
    "client = bigquery.Client(credentials = credentials)"
   ]
  },
  {
   "cell_type": "code",
   "execution_count": 6,
   "id": "ce6b4130",
   "metadata": {},
   "outputs": [],
   "source": [
    "query = 'SELECT * FROM `loony-bigquery.product_dataset.laptops_info_table`'"
   ]
  },
  {
   "cell_type": "code",
   "execution_count": 7,
   "id": "b5372f91",
   "metadata": {},
   "outputs": [],
   "source": [
    "query_job = client.query(query)"
   ]
  },
  {
   "cell_type": "code",
   "execution_count": 14,
   "id": "7d5107bf",
   "metadata": {},
   "outputs": [],
   "source": [
    "rows = query_job.result()"
   ]
  },
  {
   "cell_type": "code",
   "execution_count": 15,
   "id": "b20ca77f",
   "metadata": {},
   "outputs": [
    {
     "name": "stdout",
     "output_type": "stream",
     "text": [
      "James Laptop\n"
     ]
    }
   ],
   "source": [
    "for row in rows:\n",
    "    print(row.customer_name, row.product_name)"
   ]
  },
  {
   "cell_type": "code",
   "execution_count": null,
   "id": "334514af",
   "metadata": {},
   "outputs": [],
   "source": []
  }
 ],
 "metadata": {
  "kernelspec": {
   "display_name": "Python 3 (ipykernel)",
   "language": "python",
   "name": "python3"
  },
  "language_info": {
   "codemirror_mode": {
    "name": "ipython",
    "version": 3
   },
   "file_extension": ".py",
   "mimetype": "text/x-python",
   "name": "python",
   "nbconvert_exporter": "python",
   "pygments_lexer": "ipython3",
   "version": "3.9.7"
  }
 },
 "nbformat": 4,
 "nbformat_minor": 5
}
